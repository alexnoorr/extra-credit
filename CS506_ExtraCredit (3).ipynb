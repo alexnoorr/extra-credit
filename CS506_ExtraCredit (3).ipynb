{
  "cells": [
    {
      "cell_type": "markdown",
      "metadata": {
        "id": "WNWE14sibWZX"
      },
      "source": [
        "### Exploration"
      ]
    },
    {
      "cell_type": "code",
      "execution_count": 49,
      "metadata": {
        "colab": {
          "base_uri": "https://localhost:8080/",
          "height": 1000
        },
        "id": "Kmdjyv-2bWZZ",
        "outputId": "1ea27243-c9da-427f-9028-0e55ddbfecfd"
      },
      "outputs": [
        {
          "output_type": "stream",
          "name": "stdout",
          "text": [
            "Drive already mounted at /content/drive; to attempt to forcibly remount, call drive.mount(\"/content/drive\", force_remount=True).\n",
            "train.csv shape is  (370703, 24)\n",
            "test.csv shape is  (92676, 23)\n",
            "\n",
            "        id                         trans_num  trans_date trans_time  \\\n",
            "0   308467  26ad750c2ff71f32631b58913582d70a  2024-01-10   06:49:39   \n",
            "1   261578  fea9c1efe3f2b97f27ad0ab5409ec861  2024-01-06   02:37:50   \n",
            "2      341  2ae350b982be840f3666273e0c2f3a05  2024-01-18   21:40:21   \n",
            "3  1147639  bbdd8adfc0a34ed0e817f809193c85c0  2024-01-21   16:20:15   \n",
            "4   314152  fc7756004dc2a9bc450eb894a670b804  2024-01-21   19:36:26   \n",
            "\n",
            "    unix_time        category     amt            cc_num    first     last  \\\n",
            "0  1704887379        misc_pos  188.38      676355457570   Andrea  Johnson   \n",
            "1  1704526670     grocery_pos  102.63   377178373574671   Rhonda   Chavez   \n",
            "2  1705632021   entertainment    1.62  3599292013370451  Stephen     Khan   \n",
            "3  1705872015  health_fitness    5.64  3594292572430345   Justin   Reilly   \n",
            "4  1705883786  health_fitness   97.09  4867547663675548    Alice   Duarte   \n",
            "\n",
            "   ...    zip      lat      long city_pop                          job  \\\n",
            "0  ...  62220  38.5127  -89.9847    95666        Accounting technician   \n",
            "1  ...  21784  39.4567  -76.9696    37941            Designer, graphic   \n",
            "2  ...  49735  45.0125  -84.6723    19515  Careers information officer   \n",
            "3  ...  44256  41.1404  -81.8584    62039         Merchandiser, retail   \n",
            "4  ...  91501  34.1862 -118.3009   106841               Prison officer   \n",
            "\n",
            "          dob                          merchant  merch_lat  merch_long  \\\n",
            "0  1983-05-26          fraud_Turcotte-Halvorson  39.268874  -89.273447   \n",
            "1  1976-12-03         fraud_Schamberger-O'Keefe  39.961495  -76.707640   \n",
            "2  1999-08-24  fraud_Nicolas, Hills and McGlynn  44.393561  -85.342323   \n",
            "3  1930-02-24                 fraud_Cormier LLC  40.283764  -81.639361   \n",
            "4  1951-10-15                 fraud_Kulas Group  35.149704 -118.087440   \n",
            "\n",
            "  is_fraud  \n",
            "0        0  \n",
            "1        0  \n",
            "2        0  \n",
            "3        0  \n",
            "4        0  \n",
            "\n",
            "[5 rows x 24 columns]\n",
            "\n",
            "       id                         trans_num  trans_date trans_time  \\\n",
            "0   52329  2e6b34f2047158280fd5b50cb5249fcc  2024-01-27   13:17:44   \n",
            "1   92215  5e4c36e1e6f1838f0afe1ed83d42d48e  2024-01-31   21:12:51   \n",
            "2  107070  de58b3413be0b956c261b8e756006b5d  2024-01-24   23:06:59   \n",
            "3  117508  63e5e8954b6954121fb9395b8fb87ec3  2024-01-15   14:42:37   \n",
            "4  525132  f0acdc291ca35b61a873060e419b20a5  2024-01-30   22:02:41   \n",
            "\n",
            "    unix_time       category     amt            cc_num    first     last  ...  \\\n",
            "0  1706379464      kids_pets   13.00    30184874050384   Edward  Mueller  ...   \n",
            "1  1706753571         travel   25.64  3560293989785735     Ryan   Reeves  ...   \n",
            "2  1706155619           home   99.48   213175392060268  Gregory   Graham  ...   \n",
            "3  1705347757    grocery_pos  972.26  2720994415033785  Jessica    Carey  ...   \n",
            "4  1706670161  personal_care  165.04      639070744995    Corey   Rogers  ...   \n",
            "\n",
            "  state    zip      lat      long  city_pop  \\\n",
            "0    NY  11230  40.6225  -73.9650   2504700   \n",
            "1    CA  92504  33.9315 -117.4119    419138   \n",
            "2    KY  42629  36.9680  -85.0968      4953   \n",
            "3    TX  75571  33.1808  -94.7639      2846   \n",
            "4    NJ   7022  40.8170  -74.0000     13835   \n",
            "\n",
            "                                    job         dob  \\\n",
            "0                Leisure centre manager  1955-12-17   \n",
            "1                             Mudlogger  1940-06-22   \n",
            "2                  Engineer, automotive  1993-03-18   \n",
            "3       Geophysicist/field seismologist  1958-06-30   \n",
            "4  Accountant, chartered public finance  1972-04-13   \n",
            "\n",
            "                             merchant  merch_lat  merch_long  \n",
            "0     fraud_Lowe, Dietrich and Erdman  40.707029  -74.027386  \n",
            "1               fraud_Johnston-Casper  34.344545 -117.348319  \n",
            "2  fraud_Gutmann, McLaughlin and Wiza  37.493843  -85.224136  \n",
            "3   fraud_Schoen, Kuphal and Nitzsche  32.238558  -94.085343  \n",
            "4                fraud_Sporer-Keebler  40.957527  -73.328707  \n",
            "\n",
            "[5 rows x 23 columns]\n",
            "\n",
            "                 id     unix_time            amt        cc_num            zip  \\\n",
            "count  3.707030e+05  3.707030e+05  370703.000000  3.707030e+05  370703.000000   \n",
            "mean   4.080297e+05  1.705433e+09     123.499358  3.862304e+17   51525.494701   \n",
            "std    3.361065e+05  7.615549e+05     244.813193  1.260746e+18   29974.830535   \n",
            "min    0.000000e+00  1.704085e+09       1.000000  6.040027e+10    1001.000000   \n",
            "25%    1.325125e+05  1.704729e+09      12.360000  1.800195e+14   27705.000000   \n",
            "50%    3.162290e+05  1.705435e+09      52.210000  3.513445e+15   48214.000000   \n",
            "75%    6.121395e+05  1.706073e+09     106.260000  4.643524e+15   78501.000000   \n",
            "max    1.344214e+06  1.706764e+09   17620.830000  4.999601e+18   99921.000000   \n",
            "\n",
            "                 lat           long      city_pop      merch_lat  \\\n",
            "count  370703.000000  370703.000000  3.707030e+05  370703.000000   \n",
            "mean       37.528550     -92.158261  2.991079e+05      37.527942   \n",
            "std         5.282128      16.623988  5.644602e+05       5.313384   \n",
            "min        19.207900    -162.305600  1.040000e+02      18.210010   \n",
            "25%        33.851200     -99.103700  1.924000e+04      33.763643   \n",
            "50%        38.471800     -87.453200  6.381200e+04      38.371536   \n",
            "75%        41.230800     -80.063800  2.428030e+05      41.298640   \n",
            "max        64.854400     -67.040800  2.906700e+06      65.819961   \n",
            "\n",
            "          merch_long       is_fraud  \n",
            "count  370703.000000  370703.000000  \n",
            "mean      -92.158460       0.114105  \n",
            "std        16.632693       0.317939  \n",
            "min      -163.171646       0.000000  \n",
            "25%       -99.329107       0.000000  \n",
            "50%       -87.197353       0.000000  \n",
            "75%       -79.776034       0.000000  \n",
            "max       -66.249287       1.000000  \n"
          ]
        },
        {
          "output_type": "display_data",
          "data": {
            "text/plain": [
              "<Figure size 640x480 with 1 Axes>"
            ],
            "image/png": "[encoded data removed]"
          },
          "metadata": {}
        }
      ],
      "source": [
        "import pandas as pd\n",
        "import matplotlib.pyplot as plt\n",
        "from google.colab import drive\n",
        "drive.mount('/content/drive')\n",
        "\n",
        "trainingSet = pd.read_csv(\"/content/drive/My Drive/train.csv\")\n",
        "testingSet = pd.read_csv(\"/content/drive/My Drive/test.csv\")\n",
        "\n",
        "print(\"train.csv shape is \", trainingSet.shape)\n",
        "print(\"test.csv shape is \", testingSet.shape)\n",
        "\n",
        "print()\n",
        "\n",
        "print(trainingSet.head())\n",
        "print()\n",
        "print(testingSet.head())\n",
        "\n",
        "print()\n",
        "\n",
        "print(trainingSet.describe())\n",
        "\n",
        "trainingSet['is_fraud'].value_counts().plot(kind='bar', legend=True, alpha=.5)\n",
        "plt.title(\"Count of Fraud\")\n",
        "plt.show()"
      ]
    },
    {
      "cell_type": "markdown",
      "metadata": {
        "id": "7jH0eaUDbWZb"
      },
      "source": [
        "### Imports"
      ]
    },
    {
      "cell_type": "code",
      "execution_count": 50,
      "metadata": {
        "id": "vlKlEdlQbWZb"
      },
      "outputs": [],
      "source": [
        "import pickle\n",
        "import pandas as pd\n",
        "import seaborn as sns\n",
        "import matplotlib.pyplot as plt\n",
        "from sklearn.tree import DecisionTreeClassifier\n",
        "from sklearn.model_selection import train_test_split\n",
        "from sklearn.metrics import accuracy_score, confusion_matrix, f1_score, make_scorer\n",
        "from sklearn.linear_model import LogisticRegression\n",
        "from sklearn.svm import SVC\n",
        "from sklearn.neighbors import KNeighborsClassifier\n",
        "from sklearn import metrics\n",
        "from sklearn.preprocessing import LabelEncoder\n",
        "from sklearn.ensemble import RandomForestClassifier\n",
        "from sklearn.naive_bayes import GaussianNB\n",
        "from sklearn.cluster import KMeans\n",
        "import numpy as np\n",
        "import xgboost as xgb\n",
        "from sklearn.preprocessing import StandardScaler\n",
        "from geopy.distance import geodesic\n",
        "from sklearn.cluster import KMeans\n",
        "from sklearn.metrics import silhouette_score\n",
        "#from timezonefinder import TimezoneFinder\n",
        "import pytz\n",
        "from datetime import datetime\n",
        "from sklearn.preprocessing import OrdinalEncoder\n",
        "from sklearn.preprocessing import OneHotEncoder\n",
        "from sklearn.preprocessing import PolynomialFeatures\n",
        "from xgboost import XGBClassifier\n",
        "from sklearn.feature_selection import RFECV, RFE\n",
        "import shap"
      ]
    },
    {
      "cell_type": "markdown",
      "metadata": {
        "id": "VO0_wz9YbWZb"
      },
      "source": [
        "# Feature Engineering"
      ]
    },
    {
      "cell_type": "code",
      "execution_count": 51,
      "metadata": {
        "id": "qEAUtyIkbWZc"
      },
      "outputs": [],
      "source": [
        "# Timezone implementation attempt\n",
        "def get_timezone(lat, lon):\n",
        "    tf = TimezoneFinder()\n",
        "    tz_str = tf.timezone_at(lng = lon, lat = lat)\n",
        "    return pytz.timezone(tz_str) if tz_str else None\n",
        "\n",
        "def get_timezone_diff(df):\n",
        "    # Vectorize the timezone retrieval\n",
        "    loc_tuples = list(zip(df['lat'], df['long']))\n",
        "    merch_loc_tuples = list(zip(df['merch_lat'], df['merch_long']))\n",
        "\n",
        "    # Get timezones in a vectorized manner\n",
        "    tz_finder = TimezoneFinder()\n",
        "    df['timezone'] = [tz_finder.timezone_at(lat=lat, lng=lon) for lat, lon in loc_tuples]\n",
        "    df['merchant_timezone'] = [tz_finder.timezone_at(lat=lat, lng=lon) for lat, lon in merch_loc_tuples]\n",
        "\n",
        "    # Convert to appropriate pytz timezones\n",
        "    df['timezone'] = df['timezone'].apply(lambda x: pytz.timezone(x) if x else None)\n",
        "    df['merchant_timezone'] = df['merchant_timezone'].apply(lambda x: pytz.timezone(x) if x else None)\n",
        "\n",
        "    # Calculate timezone differences\n",
        "    # This still uses apply but only on non-null entries and on much simpler lambda functions\n",
        "    df['timezone_difference'] = df.apply(\n",
        "        lambda x: (x['timezone'].utcoffset(x['trans_date_trans_time']) - x['merchant_timezone'].utcoffset(x['trans_date_trans_time'])).total_seconds() / 3600.0\n",
        "        if x['timezone'] is not None and x['merchant_timezone'] is not None and x['trans_date_trans_time'] is not pd.NaT\n",
        "        else None, axis=1)\n",
        "\n",
        "    df.drop(['timezone', 'merchant_timezone'], axis=1, inplace=True)\n",
        "\n",
        "    return df"
      ]
    },
    {
      "cell_type": "code",
      "execution_count": 52,
      "metadata": {
        "id": "YDvcfG2IbWZc"
      },
      "outputs": [],
      "source": [
        "def process_dates(df):\n",
        "    df['trans_date_trans_time'] = pd.to_datetime(df['trans_date_trans_time'], format='%d/%m/%Y %H:%M').dt.tz_localize('UTC')\n",
        "    df['dob'] = pd.to_datetime(df['dob'], format='%d/%m/%Y')\n",
        "\n",
        "    # extract the date and time into separate columns\n",
        "    df['trans_date'] = df['trans_date_trans_time'].dt.date\n",
        "    df['trans_time'] = df['trans_date_trans_time'].dt.time\n",
        "    df['month'] = df['trans_date_trans_time'].dt.month\n",
        "    df['day_of_month'] = df['trans_date_trans_time'].dt.day\n",
        "    df['hour'] = df['trans_date_trans_time'].dt.hour\n",
        "    df['day_of_week'] = df['trans_date_trans_time'].dt.dayofweek\n",
        "\n",
        "    return df\n",
        "\n",
        "def encode_categorical_columns(df, categorical_columns):\n",
        "    encoder = OrdinalEncoder()\n",
        "    df[categorical_columns] = df[categorical_columns].apply(LabelEncoder().fit_transform)\n",
        "    return df\n",
        "\n",
        "def apply_target_encoding(df, column, target):\n",
        "\n",
        "    means = df.groupby(column)[target].mean()\n",
        "    df[f'{column}_target_enc'] = df[column].map(means)\n",
        "    return df\n",
        "\n",
        "def apply_one_hot_encoding(df, columns):\n",
        "    for column in columns:\n",
        "        one_hot_encoder = OneHotEncoder()\n",
        "        one_hot_encoded = one_hot_encoder.fit_transform(df[[column]])\n",
        "        df = df.join(pd.DataFrame(one_hot_encoded.toarray(), columns=one_hot_encoder.get_feature_names_out([column])))\n",
        "    return df\n",
        "\n",
        "def encode(df):\n",
        "    df = apply_target_encoding(df, 'merchant', 'is_fraud')  # High cardinality\n",
        "    df = apply_target_encoding(df, 'street', 'is_fraud')  # High cardinality\n",
        "    df = apply_target_encoding(df, 'job', 'is_fraud')  # High cardinality\n",
        "    df = apply_one_hot_encoding(df, ['category', 'city', 'state'])  # Batch process low cardinality columns\n",
        "    return df\n",
        "\n",
        "def get_distance(row):\n",
        "    cardholder_loc = (row['lat'], row['long'])\n",
        "    merchant_loc = (row['merch_lat'], row['merch_long'])\n",
        "    return geodesic(cardholder_loc, merchant_loc).kilometers\n",
        "\n",
        "def get_unusual_trans(df, threshold=2):\n",
        "    # unusual transaction amt: compare each trans amt to the usr historical avg. Flag if significantly higher/lower\n",
        "    grouped = df.groupby('cc_num')['amt']\n",
        "    df['avg_amt'] = grouped.transform('mean')\n",
        "    df['std_amt'] = grouped.transform('std')\n",
        "    df['unusual_trans'] = ((df['amt'] - df['avg_amt']).abs() > threshold * df['std_amt']).astype(int)\n",
        "    return df\n",
        "\n",
        "def process_dist_trans(df):\n",
        "    df['distance'] = df.apply(get_distance, axis=1)\n",
        "\n",
        "    df['daily_trans'] = df.groupby(['cc_num', df['trans_date']]).transform('count')['amt']\n",
        "\n",
        "    df = get_unusual_trans(df, threshold=2)\n",
        "    df.drop(columns=['avg_amt','std_amt', 'first', 'last', 'gender', 'trans_num'], inplace=True)\n",
        "\n",
        "    return df\n",
        "\n",
        "def process_city_jobs(df):\n",
        "    job_counts = df['job'].value_counts().to_dict()\n",
        "    df['job_freq'] = df['job'].map(job_counts)\n",
        "    mean_fraud_by_job = df.groupby('job')['is_fraud'].mean()\n",
        "    df['job_fraud_rate'] = df['job'].map(mean_fraud_by_job)\n",
        "\n",
        "    df['city_pop_bin'] = pd.qcut(df['city_pop'], q=4, labels=False)  # Quartile-based binning\n",
        "    df['city_pop_log'] = np.log1p(df['city_pop'])  # log1p so that log(0) does not occur\n",
        "    df['amt_city_pop_interaction'] = df['amt'] * df['city_pop_log']\n",
        "    return df\n",
        "\n",
        "def process_region_data(df):\n",
        "    # Group by region and calculate transaction frequency\n",
        "    for region in ['city', 'state', 'zip']:\n",
        "        df[f'{region}_trans_freq'] = df.groupby(region)['amt'].transform('count')\n",
        "\n",
        "    # regional statistics for transaction amounts\n",
        "    for region in ['city', 'state', 'zip']:\n",
        "        df[f'{region}_avg_amt'] = df.groupby(region)['amt'].transform('mean')\n",
        "        df[f'{region}_std_amt'] = df.groupby(region)['amt'].transform('std')\n",
        "\n",
        "    # fraud rate by region\n",
        "    for region in ['city', 'state', 'zip']:\n",
        "        df[f'{region}_fraud_rate'] = df.groupby(region)['is_fraud'].transform('mean')\n",
        "\n",
        "    return df\n",
        "\n",
        "def interactions(df):\n",
        "    # Multiplicative interactions\n",
        "    df['street_amt_interaction'] = df['street_mean_encoded'] * df['amt']\n",
        "    df['city_amt_interaction'] = df['city_mean_encoded'] * df['amt']\n",
        "    df['trans_night_amt'] = df['trans_night'] * df['amt']\n",
        "    df['cat_freq__amt_interaction'] = df['category_freq'] * df['amt']\n",
        "    df['cat_freq_street_interaction'] = df['category_freq'] * df['street_amt_interaction']\n",
        "    df['trans_night_amt_cat_freq_interaction']=df['category_freq'] * df['trans_night_amt']\n",
        "    df['city_pop_amt_interaction'] = df['city_pop'] * df['amt']\n",
        "    df['age_daily_trans_interaction'] = df['age'] * df['daily_trans']\n",
        "    df['dist_amt_interaction'] = df['distance'] * df['amt']\n",
        "    df['avg_amt_trans_interaction'] = df['daily_trans'] * df['mean']\n",
        "    df['interaction_job_freq_amt'] = df['job_freq'] * df['amt']\n",
        "    df['interaction_job_fraud_rate_amt'] = df['job_fraud_rate'] * df['amt']\n",
        "    df['trans_night_street_interaction']=df['street_amt_interaction'] * df['trans_night_amt']\n",
        "\n",
        "    std_dev_amount_per_category = df.groupby('category_encoded')['amt'].std().reset_index(name='std_dev_amt_per_category')\n",
        "    df = df.merge(std_dev_amount_per_category, on='category_encoded', how='left')\n",
        "\n",
        "    return df\n",
        "\n",
        "def process_stats(df):\n",
        "    \"\"\"\n",
        "    computes merchant risk scores, category risk factors, and RFM features\n",
        "    for different time windows\n",
        "    \"\"\"\n",
        "\n",
        "    time_windows = [1, 7, 30]\n",
        "    delay_days = 7\n",
        "    now = df['trans_date_trans_time'].max()\n",
        "\n",
        "    for window_days in time_windows:\n",
        "        window_end = now - pd.Timedelta(days=delay_days)\n",
        "        window_start = window_end - pd.Timedelta(days=window_days)\n",
        "        window_transactions = df[(df['trans_date_trans_time'] >= window_start) & (df['trans_date_trans_time'] < window_end)]\n",
        "\n",
        "        # merchant risk scores\n",
        "        merchant_risk = window_transactions.groupby('merchant')['is_fraud'].mean().reset_index(name=f'risk_score_{window_days}days')\n",
        "        df = df.merge(merchant_risk, on='merchant', how='left', suffixes=('', f'_{window_days}days'))\n",
        "\n",
        "        # category risk factors\n",
        "        category_risk = window_transactions.groupby('category')['is_fraud'].mean().reset_index(name=f'category_risk_{window_days}days')\n",
        "        df = df.merge(category_risk, on='category', how='left', suffixes=('', f'_{window_days}days'))\n",
        "\n",
        "        # RFM features for each cardholder\n",
        "        rfm = window_transactions.groupby('cc_num')['amt'].agg(['count', 'mean']).reset_index().rename(columns={'count': f'freq_{window_days}days', 'mean': f'avg_amt_{window_days}days'})\n",
        "        df = df.merge(rfm, on='cc_num', how='left')\n",
        "\n",
        "    if 'mean' not in df.columns:\n",
        "        df['mean'] = df.groupby('cc_num')['amt'].transform('mean')\n",
        "\n",
        "    df = df.loc[:,~df.columns.duplicated()]\n",
        "\n",
        "    return df\n",
        "\n",
        "\n",
        "def night_day(df):\n",
        "    df['trans_weekend'] = df['trans_date_trans_time'].dt.weekday >= 5\n",
        "    df['trans_night'] = df['trans_date_trans_time'].dt.hour.apply(lambda x: 1 if 0 <= x < 6 or 20 <= x < 24 else 0)\n",
        "    return df\n",
        "\n",
        "def cat(df):\n",
        "    categorical_columns = ['street', 'city', 'state']\n",
        "    df = encode_categorical_columns(df, categorical_columns)\n",
        "    for col in categorical_columns:\n",
        "        mean_encoding = df.groupby(col)['is_fraud'].mean()\n",
        "        df[f\"{col}_mean_encoded\"] = df[col].map(mean_encoding)\n",
        "\n",
        "    categorical_features = ['merchant', 'city', 'state', 'job', 'street']\n",
        "    df[categorical_features] = df[categorical_features].apply(LabelEncoder().fit_transform)\n",
        "    df['category_encoded'] = LabelEncoder().fit_transform(df['category'])\n",
        "    category_freq = df['category_encoded'].value_counts().reset_index()\n",
        "    category_freq.columns = ['category_encoded', 'category_freq']\n",
        "    df = pd.merge(df, category_freq, on='category_encoded', how='left')\n",
        "    return df\n",
        "\n",
        "def add_polynomial_features(df, feature_cols, degree=2):\n",
        "    poly = PolynomialFeatures(degree=degree, include_bias=False)\n",
        "    poly_features = poly.fit_transform(df[feature_cols])\n",
        "    feature_names = [f\"poly_{i}\" for i in range(poly_features.shape[1])]\n",
        "    df_poly = pd.DataFrame(poly_features, columns=feature_names, index=df.index)\n",
        "    return pd.concat([df, df_poly], axis=1)\n",
        "\n",
        "def polynomial(df):\n",
        "    df = add_polynomial_features(df, ['amt', 'city_pop_log'], degree=2)\n",
        "\n",
        "    df['amt_binned'] = pd.cut(df['amt'], bins=[0, 100, 500, 1000, np.inf], labels=['low', 'medium', 'high', 'very_high'])\n",
        "\n",
        "    # rolling aggregates\n",
        "    df.sort_values(by=['cc_num', 'trans_date_trans_time'], inplace=True)  # Make sure the data is sorted\n",
        "    df['rolling_avg_amt'] = df.groupby('cc_num')['amt'].transform(lambda x: x.rolling(window=5, min_periods=1).mean())\n",
        "\n",
        "    # time since last transaction\n",
        "    df['time_since_last_trans'] = df.groupby('cc_num')['trans_date_trans_time'].diff().apply(lambda x: x.total_seconds())\n",
        "\n",
        "    # frequency encoding\n",
        "    category_counts = df['category'].value_counts(normalize=True)\n",
        "    df['category_freq_encode'] = df['category'].map(category_counts)\n",
        "    return df\n",
        "\n",
        "def calculate_age(dob, trans_date):\n",
        "    age = trans_date.year - dob.year - ((trans_date.month, trans_date.day) < (dob.month, dob.day))\n",
        "    return age\n",
        "\n",
        "def age(df):\n",
        "    df['age'] = df.apply(lambda row: calculate_age(row['dob'], row['trans_date_trans_time']), axis=1)\n",
        "\n",
        "    return df"
      ]
    },
    {
      "cell_type": "code",
      "execution_count": 53,
      "metadata": {
        "colab": {
          "base_uri": "https://localhost:8080/"
        },
        "id": "MFYGUq0Rc0NJ",
        "outputId": "d207f382-3c2e-4807-8bb9-b74f4a2df130"
      },
      "outputs": [
        {
          "output_type": "stream",
          "name": "stdout",
          "text": [
            "Index(['id', 'trans_num', 'trans_date', 'trans_time', 'unix_time', 'category',\n",
            "       'amt', 'cc_num', 'first', 'last', 'gender', 'street', 'city', 'state',\n",
            "       'zip', 'lat', 'long', 'city_pop', 'job', 'dob', 'merchant', 'merch_lat',\n",
            "       'merch_long', 'is_fraud'],\n",
            "      dtype='object')\n"
          ]
        }
      ],
      "source": [
        "print(trainingSet.columns)"
      ]
    },
    {
      "cell_type": "code",
      "execution_count": 54,
      "metadata": {
        "colab": {
          "base_uri": "https://localhost:8080/"
        },
        "id": "QJ5UFvErbWZd",
        "outputId": "732188ff-a8bb-444e-afd0-8705d3f0631c"
      },
      "outputs": [
        {
          "output_type": "stream",
          "name": "stdout",
          "text": [
            "processing dates\n",
            "0   2024-01-10 06:49:39\n",
            "1   2024-01-06 02:37:50\n",
            "2   2024-01-18 21:40:21\n",
            "3   2024-01-21 16:20:15\n",
            "4   2024-01-21 19:36:26\n",
            "Name: trans_date_trans_time, dtype: datetime64[ns]\n",
            "processing distances, transactions\n",
            "processing city, jobs\n",
            "processing categories\n"
          ]
        }
      ],
      "source": [
        "trainingSet = pd.read_csv(\"/content/drive/My Drive/train.csv\")\n",
        "print(\"processing dates\")\n",
        "# Combine 'trans_date' and 'trans_time' into a single column\n",
        "trainingSet['trans_date_trans_time'] = trainingSet['trans_date'] + \" \" + trainingSet['trans_time']\n",
        "\n",
        "# Convert the new column to a datetime object\n",
        "trainingSet['trans_date_trans_time'] = pd.to_datetime(trainingSet['trans_date_trans_time'])\n",
        "\n",
        "def process_dates(df):\n",
        "    # Ensure 'trans_date_trans_time' is parsed correctly\n",
        "    df['trans_date_trans_time'] = pd.to_datetime(df['trans_date_trans_time'], format='%Y-%m-%d %H:%M:%S', errors='coerce')\n",
        "\n",
        "    # Correct format for 'dob'\n",
        "    df['dob'] = pd.to_datetime(df['dob'], format='%Y-%m-%d', errors='coerce')\n",
        "\n",
        "    # Example: Extract year of birth if needed\n",
        "    df['year_of_birth'] = df['dob'].dt.year\n",
        "\n",
        "    return df\n",
        "\n",
        "\n",
        "print(trainingSet['trans_date_trans_time'].head())\n",
        "\n",
        "train_processed = process_dates(trainingSet)\n",
        "\n",
        "\n",
        "print(\"processing distances, transactions\")\n",
        "train_processed = process_dist_trans(trainingSet)\n",
        "\n",
        "\n",
        "print(\"processing city, jobs\")\n",
        "train_processed = process_city_jobs(train_processed)\n",
        "train_processed_after_dist_trans_city_jobs = train_processed\n",
        "\n",
        "\n",
        "print(\"processing categories\")\n",
        "train_processed = cat(train_processed)\n",
        "train_processed_after_dist_trans_city_jobs_cats = train_processed"
      ]
    },
    {
      "cell_type": "code",
      "execution_count": 55,
      "metadata": {
        "id": "s7yqLm6rbWZd",
        "colab": {
          "base_uri": "https://localhost:8080/"
        },
        "outputId": "28d4c1de-d5d8-4d89-cf4f-18217b72785b"
      },
      "outputs": [
        {
          "output_type": "stream",
          "name": "stdout",
          "text": [
            "processing polynomials\n",
            "processing age\n"
          ]
        }
      ],
      "source": [
        "print(\"processing polynomials\")\n",
        "train_processed = polynomial(train_processed)\n",
        "\n",
        "\n",
        "print(\"processing age\")\n",
        "train_processed = age(train_processed)"
      ]
    },
    {
      "cell_type": "code",
      "execution_count": 56,
      "metadata": {
        "id": "9e86YvAvbWZd"
      },
      "outputs": [],
      "source": [
        "def scale(df):\n",
        "    features_to_scale = ['amt', 'city_pop', 'rolling_avg_amt', 'time_since_last_trans']\n",
        "    scaler = StandardScaler()\n",
        "    df[features_to_scale] = scaler.fit_transform(df[features_to_scale])\n",
        "    return df\n",
        "train_processed = scale(train_processed)"
      ]
    },
    {
      "cell_type": "code",
      "execution_count": 57,
      "metadata": {
        "colab": {
          "base_uri": "https://localhost:8080/"
        },
        "id": "3JM1dM08bWZd",
        "outputId": "7816f1c5-8355-4beb-a427-2ed165d056bb"
      },
      "outputs": [
        {
          "output_type": "stream",
          "name": "stdout",
          "text": [
            "processing cardholder stats\n",
            "processing time transactions\n",
            "processing interactions\n"
          ]
        }
      ],
      "source": [
        "print(\"processing cardholder stats\")\n",
        "train_processed = process_stats(train_processed)\n",
        "\n",
        "print(\"processing time transactions\")\n",
        "train_processed = night_day(train_processed)\n",
        "\n",
        "print(\"processing interactions\")\n",
        "train_processed = interactions(train_processed)\n",
        "#train_processed = cluster_locations(train_processed)"
      ]
    },
    {
      "cell_type": "code",
      "execution_count": 58,
      "metadata": {
        "colab": {
          "base_uri": "https://localhost:8080/",
          "height": 256
        },
        "id": "GbNmTMCjbWZd",
        "outputId": "fda2f733-91c0-425a-b2e1-cc3974f78783"
      },
      "outputs": [
        {
          "output_type": "execute_result",
          "data": {
            "text/plain": [
              "       id  trans_date trans_time   unix_time       category       amt  \\\n",
              "0  389329  2024-01-02   02:57:13  1704182233  gas_transport -0.482284   \n",
              "1  114880  2024-01-04   01:10:52  1704348652  gas_transport -0.482039   \n",
              "2  247180  2024-01-05   11:05:27  1704470727    grocery_pos -0.171312   \n",
              "3   14783  2024-01-07   10:08:54  1704640134  gas_transport  0.804903   \n",
              "4  294522  2024-01-07   23:16:39  1704687399   shopping_net  4.266731   \n",
              "\n",
              "        cc_num  street  city  state  ...  cat_freq_street_interaction  \\\n",
              "0  60400268763   11472   225     20  ...                 -3670.733382   \n",
              "1  60400268763   11472   225     20  ...                 -3668.868004   \n",
              "2  60400268763   11472   225     20  ...                 -1970.870037   \n",
              "3  60400268763   11472   225     20  ...                  6126.232789   \n",
              "4  60400268763   11472   225     20  ...                 40689.985356   \n",
              "\n",
              "   trans_night_amt_cat_freq_interaction  city_pop_amt_interaction  \\\n",
              "0                         -12847.566836                 -0.287415   \n",
              "1                         -12841.038013                 -0.287269   \n",
              "2                             -0.000000                 -0.102093   \n",
              "3                              0.000000                  0.479678   \n",
              "4                         142414.948745                  2.542739   \n",
              "\n",
              "   age_daily_trans_interaction  dist_amt_interaction  \\\n",
              "0                           54            -21.025801   \n",
              "1                           54            -35.951669   \n",
              "2                           54            -18.767108   \n",
              "3                          108             73.680060   \n",
              "4                          108            470.945168   \n",
              "\n",
              "  avg_amt_trans_interaction  interaction_job_freq_amt  \\\n",
              "0                  0.533045               -303.356715   \n",
              "1                  0.533045               -303.202557   \n",
              "2                  0.533045               -107.755188   \n",
              "3                  1.066091                506.284075   \n",
              "4                  1.066091               2683.773826   \n",
              "\n",
              "   interaction_job_fraud_rate_amt  trans_night_street_interaction  \\\n",
              "0                       -0.065174                        0.066457   \n",
              "1                       -0.065140                        0.066389   \n",
              "2                       -0.023150                        0.000000   \n",
              "3                        0.108771                        0.000000   \n",
              "4                        0.576585                        5.201427   \n",
              "\n",
              "   std_dev_amt_per_category  \n",
              "0                  0.551781  \n",
              "1                  0.551781  \n",
              "2                  0.794479  \n",
              "3                  0.551781  \n",
              "4                  1.560692  \n",
              "\n",
              "[5 rows x 74 columns]"
            ],
            "text/html": [
              "\n",
              "  <div id=\"df-b39d9e74-d1a7-42ed-8c72-8840e5cb02dc\" class=\"colab-df-container\">\n",
              "    <div>\n",
              "<style scoped>\n",
              "    .dataframe tbody tr th:only-of-type {\n",
              "        vertical-align: middle;\n",
              "    }\n",
              "\n",
              "    .dataframe tbody tr th {\n",
              "        vertical-align: top;\n",
              "    }\n",
              "\n",
              "    .dataframe thead th {\n",
              "        text-align: right;\n",
              "    }\n",
              "</style>\n",
              "<table border=\"1\" class=\"dataframe\">\n",
              "  <thead>\n",
              "    <tr style=\"text-align: right;\">\n",
              "      <th></th>\n",
              "      <th>id</th>\n",
              "      <th>trans_date</th>\n",
              "      <th>trans_time</th>\n",
              "      <th>unix_time</th>\n",
              "      <th>category</th>\n",
              "      <th>amt</th>\n",
              "      <th>cc_num</th>\n",
              "      <th>street</th>\n",
              "      <th>city</th>\n",
              "      <th>state</th>\n",
              "      <th>...</th>\n",
              "      <th>cat_freq_street_interaction</th>\n",
              "      <th>trans_night_amt_cat_freq_interaction</th>\n",
              "      <th>city_pop_amt_interaction</th>\n",
              "      <th>age_daily_trans_interaction</th>\n",
              "      <th>dist_amt_interaction</th>\n",
              "      <th>avg_amt_trans_interaction</th>\n",
              "      <th>interaction_job_freq_amt</th>\n",
              "      <th>interaction_job_fraud_rate_amt</th>\n",
              "      <th>trans_night_street_interaction</th>\n",
              "      <th>std_dev_amt_per_category</th>\n",
              "    </tr>\n",
              "  </thead>\n",
              "  <tbody>\n",
              "    <tr>\n",
              "      <th>0</th>\n",
              "      <td>389329</td>\n",
              "      <td>2024-01-02</td>\n",
              "      <td>02:57:13</td>\n",
              "      <td>1704182233</td>\n",
              "      <td>gas_transport</td>\n",
              "      <td>-0.482284</td>\n",
              "      <td>60400268763</td>\n",
              "      <td>11472</td>\n",
              "      <td>225</td>\n",
              "      <td>20</td>\n",
              "      <td>...</td>\n",
              "      <td>-3670.733382</td>\n",
              "      <td>-12847.566836</td>\n",
              "      <td>-0.287415</td>\n",
              "      <td>54</td>\n",
              "      <td>-21.025801</td>\n",
              "      <td>0.533045</td>\n",
              "      <td>-303.356715</td>\n",
              "      <td>-0.065174</td>\n",
              "      <td>0.066457</td>\n",
              "      <td>0.551781</td>\n",
              "    </tr>\n",
              "    <tr>\n",
              "      <th>1</th>\n",
              "      <td>114880</td>\n",
              "      <td>2024-01-04</td>\n",
              "      <td>01:10:52</td>\n",
              "      <td>1704348652</td>\n",
              "      <td>gas_transport</td>\n",
              "      <td>-0.482039</td>\n",
              "      <td>60400268763</td>\n",
              "      <td>11472</td>\n",
              "      <td>225</td>\n",
              "      <td>20</td>\n",
              "      <td>...</td>\n",
              "      <td>-3668.868004</td>\n",
              "      <td>-12841.038013</td>\n",
              "      <td>-0.287269</td>\n",
              "      <td>54</td>\n",
              "      <td>-35.951669</td>\n",
              "      <td>0.533045</td>\n",
              "      <td>-303.202557</td>\n",
              "      <td>-0.065140</td>\n",
              "      <td>0.066389</td>\n",
              "      <td>0.551781</td>\n",
              "    </tr>\n",
              "    <tr>\n",
              "      <th>2</th>\n",
              "      <td>247180</td>\n",
              "      <td>2024-01-05</td>\n",
              "      <td>11:05:27</td>\n",
              "      <td>1704470727</td>\n",
              "      <td>grocery_pos</td>\n",
              "      <td>-0.171312</td>\n",
              "      <td>60400268763</td>\n",
              "      <td>11472</td>\n",
              "      <td>225</td>\n",
              "      <td>20</td>\n",
              "      <td>...</td>\n",
              "      <td>-1970.870037</td>\n",
              "      <td>-0.000000</td>\n",
              "      <td>-0.102093</td>\n",
              "      <td>54</td>\n",
              "      <td>-18.767108</td>\n",
              "      <td>0.533045</td>\n",
              "      <td>-107.755188</td>\n",
              "      <td>-0.023150</td>\n",
              "      <td>0.000000</td>\n",
              "      <td>0.794479</td>\n",
              "    </tr>\n",
              "    <tr>\n",
              "      <th>3</th>\n",
              "      <td>14783</td>\n",
              "      <td>2024-01-07</td>\n",
              "      <td>10:08:54</td>\n",
              "      <td>1704640134</td>\n",
              "      <td>gas_transport</td>\n",
              "      <td>0.804903</td>\n",
              "      <td>60400268763</td>\n",
              "      <td>11472</td>\n",
              "      <td>225</td>\n",
              "      <td>20</td>\n",
              "      <td>...</td>\n",
              "      <td>6126.232789</td>\n",
              "      <td>0.000000</td>\n",
              "      <td>0.479678</td>\n",
              "      <td>108</td>\n",
              "      <td>73.680060</td>\n",
              "      <td>1.066091</td>\n",
              "      <td>506.284075</td>\n",
              "      <td>0.108771</td>\n",
              "      <td>0.000000</td>\n",
              "      <td>0.551781</td>\n",
              "    </tr>\n",
              "    <tr>\n",
              "      <th>4</th>\n",
              "      <td>294522</td>\n",
              "      <td>2024-01-07</td>\n",
              "      <td>23:16:39</td>\n",
              "      <td>1704687399</td>\n",
              "      <td>shopping_net</td>\n",
              "      <td>4.266731</td>\n",
              "      <td>60400268763</td>\n",
              "      <td>11472</td>\n",
              "      <td>225</td>\n",
              "      <td>20</td>\n",
              "      <td>...</td>\n",
              "      <td>40689.985356</td>\n",
              "      <td>142414.948745</td>\n",
              "      <td>2.542739</td>\n",
              "      <td>108</td>\n",
              "      <td>470.945168</td>\n",
              "      <td>1.066091</td>\n",
              "      <td>2683.773826</td>\n",
              "      <td>0.576585</td>\n",
              "      <td>5.201427</td>\n",
              "      <td>1.560692</td>\n",
              "    </tr>\n",
              "  </tbody>\n",
              "</table>\n",
              "<p>5 rows × 74 columns</p>\n",
              "</div>\n",
              "    <div class=\"colab-df-buttons\">\n",
              "\n",
              "  <div class=\"colab-df-container\">\n",
              "    <button class=\"colab-df-convert\" onclick=\"convertToInteractive('df-b39d9e74-d1a7-42ed-8c72-8840e5cb02dc')\"\n",
              "            title=\"Convert this dataframe to an interactive table.\"\n",
              "            style=\"display:none;\">\n",
              "\n",
              "  <svg xmlns=\"http://www.w3.org/2000/svg\" height=\"24px\" viewBox=\"0 -960 960 960\">\n",
              "    <path d=\"M120-120v-720h720v720H120Zm60-500h600v-160H180v160Zm220 220h160v-160H400v160Zm0 220h160v-160H400v160ZM180-400h160v-160H180v160Zm440 0h160v-160H620v160ZM180-180h160v-160H180v160Zm440 0h160v-160H620v160Z\"/>\n",
              "  </svg>\n",
              "    </button>\n",
              "\n",
              "  <style>\n",
              "    .colab-df-container {\n",
              "      display:flex;\n",
              "      gap: 12px;\n",
              "    }\n",
              "\n",
              "    .colab-df-convert {\n",
              "      background-color: #E8F0FE;\n",
              "      border: none;\n",
              "      border-radius: 50%;\n",
              "      cursor: pointer;\n",
              "      display: none;\n",
              "      fill: #1967D2;\n",
              "      height: 32px;\n",
              "      padding: 0 0 0 0;\n",
              "      width: 32px;\n",
              "    }\n",
              "\n",
              "    .colab-df-convert:hover {\n",
              "      background-color: #E2EBFA;\n",
              "      box-shadow: 0px 1px 2px rgba(60, 64, 67, 0.3), 0px 1px 3px 1px rgba(60, 64, 67, 0.15);\n",
              "      fill: #174EA6;\n",
              "    }\n",
              "\n",
              "    .colab-df-buttons div {\n",
              "      margin-bottom: 4px;\n",
              "    }\n",
              "\n",
              "    [theme=dark] .colab-df-convert {\n",
              "      background-color: #3B4455;\n",
              "      fill: #D2E3FC;\n",
              "    }\n",
              "\n",
              "    [theme=dark] .colab-df-convert:hover {\n",
              "      background-color: #434B5C;\n",
              "      box-shadow: 0px 1px 3px 1px rgba(0, 0, 0, 0.15);\n",
              "      filter: drop-shadow(0px 1px 2px rgba(0, 0, 0, 0.3));\n",
              "      fill: #FFFFFF;\n",
              "    }\n",
              "  </style>\n",
              "\n",
              "    <script>\n",
              "      const buttonEl =\n",
              "        document.querySelector('#df-b39d9e74-d1a7-42ed-8c72-8840e5cb02dc button.colab-df-convert');\n",
              "      buttonEl.style.display =\n",
              "        google.colab.kernel.accessAllowed ? 'block' : 'none';\n",
              "\n",
              "      async function convertToInteractive(key) {\n",
              "        const element = document.querySelector('#df-b39d9e74-d1a7-42ed-8c72-8840e5cb02dc');\n",
              "        const dataTable =\n",
              "          await google.colab.kernel.invokeFunction('convertToInteractive',\n",
              "                                                    [key], {});\n",
              "        if (!dataTable) return;\n",
              "\n",
              "        const docLinkHtml = 'Like what you see? Visit the ' +\n",
              "          '<a target=\"_blank\" href=https://colab.research.google.com/notebooks/data_table.ipynb>data table notebook</a>'\n",
              "          + ' to learn more about interactive tables.';\n",
              "        element.innerHTML = '';\n",
              "        dataTable['output_type'] = 'display_data';\n",
              "        await google.colab.output.renderOutput(dataTable, element);\n",
              "        const docLink = document.createElement('div');\n",
              "        docLink.innerHTML = docLinkHtml;\n",
              "        element.appendChild(docLink);\n",
              "      }\n",
              "    </script>\n",
              "  </div>\n",
              "\n",
              "\n",
              "<div id=\"df-a1f27e82-459a-49e0-849b-0e3fcf19800e\">\n",
              "  <button class=\"colab-df-quickchart\" onclick=\"quickchart('df-a1f27e82-459a-49e0-849b-0e3fcf19800e')\"\n",
              "            title=\"Suggest charts\"\n",
              "            style=\"display:none;\">\n",
              "\n",
              "<svg xmlns=\"http://www.w3.org/2000/svg\" height=\"24px\"viewBox=\"0 0 24 24\"\n",
              "     width=\"24px\">\n",
              "    <g>\n",
              "        <path d=\"M19 3H5c-1.1 0-2 .9-2 2v14c0 1.1.9 2 2 2h14c1.1 0 2-.9 2-2V5c0-1.1-.9-2-2-2zM9 17H7v-7h2v7zm4 0h-2V7h2v10zm4 0h-2v-4h2v4z\"/>\n",
              "    </g>\n",
              "</svg>\n",
              "  </button>\n",
              "\n",
              "<style>\n",
              "  .colab-df-quickchart {\n",
              "      --bg-color: #E8F0FE;\n",
              "      --fill-color: #1967D2;\n",
              "      --hover-bg-color: #E2EBFA;\n",
              "      --hover-fill-color: #174EA6;\n",
              "      --disabled-fill-color: #AAA;\n",
              "      --disabled-bg-color: #DDD;\n",
              "  }\n",
              "\n",
              "  [theme=dark] .colab-df-quickchart {\n",
              "      --bg-color: #3B4455;\n",
              "      --fill-color: #D2E3FC;\n",
              "      --hover-bg-color: #434B5C;\n",
              "      --hover-fill-color: #FFFFFF;\n",
              "      --disabled-bg-color: #3B4455;\n",
              "      --disabled-fill-color: #666;\n",
              "  }\n",
              "\n",
              "  .colab-df-quickchart {\n",
              "    background-color: var(--bg-color);\n",
              "    border: none;\n",
              "    border-radius: 50%;\n",
              "    cursor: pointer;\n",
              "    display: none;\n",
              "    fill: var(--fill-color);\n",
              "    height: 32px;\n",
              "    padding: 0;\n",
              "    width: 32px;\n",
              "  }\n",
              "\n",
              "  .colab-df-quickchart:hover {\n",
              "    background-color: var(--hover-bg-color);\n",
              "    box-shadow: 0 1px 2px rgba(60, 64, 67, 0.3), 0 1px 3px 1px rgba(60, 64, 67, 0.15);\n",
              "    fill: var(--button-hover-fill-color);\n",
              "  }\n",
              "\n",
              "  .colab-df-quickchart-complete:disabled,\n",
              "  .colab-df-quickchart-complete:disabled:hover {\n",
              "    background-color: var(--disabled-bg-color);\n",
              "    fill: var(--disabled-fill-color);\n",
              "    box-shadow: none;\n",
              "  }\n",
              "\n",
              "  .colab-df-spinner {\n",
              "    border: 2px solid var(--fill-color);\n",
              "    border-color: transparent;\n",
              "    border-bottom-color: var(--fill-color);\n",
              "    animation:\n",
              "      spin 1s steps(1) infinite;\n",
              "  }\n",
              "\n",
              "  @keyframes spin {\n",
              "    0% {\n",
              "      border-color: transparent;\n",
              "      border-bottom-color: var(--fill-color);\n",
              "      border-left-color: var(--fill-color);\n",
              "    }\n",
              "    20% {\n",
              "      border-color: transparent;\n",
              "      border-left-color: var(--fill-color);\n",
              "      border-top-color: var(--fill-color);\n",
              "    }\n",
              "    30% {\n",
              "      border-color: transparent;\n",
              "      border-left-color: var(--fill-color);\n",
              "      border-top-color: var(--fill-color);\n",
              "      border-right-color: var(--fill-color);\n",
              "    }\n",
              "    40% {\n",
              "      border-color: transparent;\n",
              "      border-right-color: var(--fill-color);\n",
              "      border-top-color: var(--fill-color);\n",
              "    }\n",
              "    60% {\n",
              "      border-color: transparent;\n",
              "      border-right-color: var(--fill-color);\n",
              "    }\n",
              "    80% {\n",
              "      border-color: transparent;\n",
              "      border-right-color: var(--fill-color);\n",
              "      border-bottom-color: var(--fill-color);\n",
              "    }\n",
              "    90% {\n",
              "      border-color: transparent;\n",
              "      border-bottom-color: var(--fill-color);\n",
              "    }\n",
              "  }\n",
              "</style>\n",
              "\n",
              "  <script>\n",
              "    async function quickchart(key) {\n",
              "      const quickchartButtonEl =\n",
              "        document.querySelector('#' + key + ' button');\n",
              "      quickchartButtonEl.disabled = true;  // To prevent multiple clicks.\n",
              "      quickchartButtonEl.classList.add('colab-df-spinner');\n",
              "      try {\n",
              "        const charts = await google.colab.kernel.invokeFunction(\n",
              "            'suggestCharts', [key], {});\n",
              "      } catch (error) {\n",
              "        console.error('Error during call to suggestCharts:', error);\n",
              "      }\n",
              "      quickchartButtonEl.classList.remove('colab-df-spinner');\n",
              "      quickchartButtonEl.classList.add('colab-df-quickchart-complete');\n",
              "    }\n",
              "    (() => {\n",
              "      let quickchartButtonEl =\n",
              "        document.querySelector('#df-a1f27e82-459a-49e0-849b-0e3fcf19800e button');\n",
              "      quickchartButtonEl.style.display =\n",
              "        google.colab.kernel.accessAllowed ? 'block' : 'none';\n",
              "    })();\n",
              "  </script>\n",
              "</div>\n",
              "\n",
              "    </div>\n",
              "  </div>\n"
            ],
            "application/vnd.google.colaboratory.intrinsic+json": {
              "type": "dataframe",
              "variable_name": "train_processed"
            }
          },
          "metadata": {},
          "execution_count": 58
        }
      ],
      "source": [
        "train_processed.head()"
      ]
    },
    {
      "cell_type": "code",
      "execution_count": 59,
      "metadata": {
        "id": "Lwve20CQbWZd"
      },
      "outputs": [],
      "source": [
        "def drop_time_related_columns(df):\n",
        "    columns_to_drop = ['poly_4', 'freq_1days', 'freq_7days', 'long', 'job_fraud_rate', 'trans_night', 'zip', 'state',\n",
        "                       'unusual_trans', 'job', 'street', 'merch_lat', 'avg_amt_30days', 'location_cluster', 'avg_amt_1days',\n",
        "                       'risk_score_1days', 'merchant', 'poly_0', 'category_risk_1days', 'city_pop_bin', 'trans_weekend',\n",
        "                       'state_mean_encoded', 'cc_num', 'category_freq_encode', 'job_freq', 'dist_amt_interaction', 'month',\n",
        "                       'lat', 'distance', 'freq_30days', 'merch_long', 'city', 'avg_amt_7days', 'city_pop_log', 'poly_2',\n",
        "                       'poly_3', 'poly_1', 'location_cluster', 'max', 'interaction_job_freq_amt', 'interaction_job_fraud_rate_amt',\n",
        "                       'day_of_month', 'std', 'city_pop', 'city_amt_interaction']\n",
        "    df = df.drop(columns=columns_to_drop, errors='ignore')\n",
        "    return df\n",
        "\n",
        "train_processed = drop_time_related_columns(train_processed)"
      ]
    },
    {
      "cell_type": "code",
      "execution_count": 60,
      "metadata": {
        "colab": {
          "base_uri": "https://localhost:8080/"
        },
        "id": "8WF0xu78bWZe",
        "outputId": "655a8356-86dc-40dc-94ee-b3e94ac45a80"
      },
      "outputs": [
        {
          "output_type": "stream",
          "name": "stdout",
          "text": [
            "trans_night_amt                         0.572545\n",
            "trans_night_amt_cat_freq_interaction    0.565335\n",
            "amt                                     0.563626\n",
            "cat_freq__amt_interaction               0.560224\n",
            "amt_city_pop_interaction                0.550974\n",
            "street_amt_interaction                  0.483675\n",
            "rolling_avg_amt                         0.482423\n",
            "cat_freq_street_interaction             0.476994\n",
            "street_mean_encoded                     0.436056\n",
            "avg_amt_trans_interaction               0.383962\n",
            "mean                                    0.343559\n",
            "trans_night_street_interaction          0.221044\n",
            "city_mean_encoded                       0.214618\n",
            "std_dev_amt_per_category                0.168619\n",
            "category_risk_7days                     0.122909\n",
            "risk_score_7days                        0.117961\n",
            "unix_time                               0.106750\n",
            "age_daily_trans_interaction             0.102777\n",
            "year_of_birth                           0.100323\n",
            "age                                     0.100139\n",
            "category_freq                           0.097624\n",
            "category_encoded                        0.069346\n",
            "category_risk_30days                    0.041042\n",
            "daily_trans                             0.040724\n",
            "risk_score_30days                       0.040308\n",
            "id                                      0.030572\n",
            "time_since_last_trans                   0.007447\n",
            "city_pop_amt_interaction                0.001997\n",
            "Name: is_fraud, dtype: float64\n"
          ]
        }
      ],
      "source": [
        "numeric_df = train_processed.select_dtypes(include=[np.number])\n",
        "corr_matrix = numeric_df.corr()\n",
        "\n",
        "# Get the correlation with the target variable\n",
        "target_corr = corr_matrix['is_fraud'].drop('is_fraud')  # Drop self-correlation\n",
        "\n",
        "# Sort the values to see the most correlated features at the top\n",
        "sorted_corr = target_corr.abs().sort_values(ascending=False)\n",
        "\n",
        "print(sorted_corr)\n"
      ]
    },
    {
      "cell_type": "code",
      "execution_count": 61,
      "metadata": {
        "colab": {
          "base_uri": "https://localhost:8080/"
        },
        "id": "jBxPPbkRbWZe",
        "outputId": "9238d962-3a2f-44a7-99ed-f29b5ee8a97f"
      },
      "outputs": [
        {
          "output_type": "stream",
          "name": "stdout",
          "text": [
            "Drive already mounted at /content/drive; to attempt to forcibly remount, call drive.mount(\"/content/drive\", force_remount=True).\n",
            "Index(['id', 'unix_time', 'amt', 'year_of_birth', 'daily_trans',\n",
            "       'amt_city_pop_interaction', 'street_mean_encoded', 'city_mean_encoded',\n",
            "       'category_encoded', 'category_freq', 'rolling_avg_amt',\n",
            "       'time_since_last_trans', 'age', 'risk_score_7days',\n",
            "       'category_risk_7days', 'risk_score_30days', 'category_risk_30days',\n",
            "       'mean', 'street_amt_interaction', 'trans_night_amt',\n",
            "       'cat_freq__amt_interaction', 'cat_freq_street_interaction',\n",
            "       'trans_night_amt_cat_freq_interaction', 'city_pop_amt_interaction',\n",
            "       'age_daily_trans_interaction', 'avg_amt_trans_interaction',\n",
            "       'trans_night_street_interaction', 'std_dev_amt_per_category'],\n",
            "      dtype='object')\n"
          ]
        }
      ],
      "source": [
        "from google.colab import drive\n",
        "drive.mount('/content/drive')\n",
        "\n",
        "submissionSet = pd.read_csv(\"/content/drive/MyDrive/test.csv\")\n",
        "\n",
        "testX= pd.merge(train_processed, submissionSet, left_on='id', right_on='id')\n",
        "\n",
        "\n",
        "trainX =  train_processed[train_processed['is_fraud'].notnull()]\n",
        "\n",
        "testX.to_csv(\"/content/drive/MyDrive/X_test.csv\", index=False)\n",
        "trainX.to_csv(\"/content/drive/MyDrive/X_train.csv\", index=False)\n",
        "\n",
        "\n",
        "X_train = pd.read_csv(\"/content/drive/MyDrive/X_train.csv\")\n",
        "\n",
        "# Split training set into training and testing set\n",
        "X_train, X_test, Y_train, Y_test = train_test_split(\n",
        "        X_train.drop(['is_fraud'], axis=1),\n",
        "        X_train['is_fraud'],\n",
        "        test_size=1/10.0,\n",
        "        random_state=0\n",
        "    )\n",
        "\n",
        "# This is where you can do more feature selection\n",
        "X_train_processed = X_train._get_numeric_data()\n",
        "print(X_train_processed.columns)\n",
        "X_test_processed = X_test._get_numeric_data()"
      ]
    },
    {
      "cell_type": "code",
      "source": [
        "from xgboost import XGBClassifier\n",
        "import pickle\n",
        "\n",
        "# Train the model (example)\n",
        "model = XGBClassifier()\n",
        "model.fit(X_train_processed, Y_train)\n",
        "\n",
        "# Save the model\n",
        "with open('xgboost_model.obj', 'wb') as f:\n",
        "    pickle.dump(model, f)\n",
        "\n",
        "# Load the model\n",
        "with open('xgboost_model.obj', 'rb') as f:\n",
        "    xgb_model = pickle.load(f)\n"
      ],
      "metadata": {
        "id": "4U67encwUXLM"
      },
      "execution_count": 62,
      "outputs": []
    },
    {
      "cell_type": "code",
      "execution_count": 68,
      "metadata": {
        "id": "ZJXAU9CmbWZe",
        "outputId": "9ce7433e-341e-49d1-9848-0f69481eab89",
        "colab": {
          "base_uri": "https://localhost:8080/",
          "height": 579
        }
      },
      "outputs": [
        {
          "output_type": "stream",
          "name": "stderr",
          "text": [
            "/usr/local/lib/python3.10/dist-packages/xgboost/core.py:158: UserWarning: [03:16:40] WARNING: /workspace/src/learner.cc:740: \n",
            "Parameters: { \"use_label_encoder\" } are not used.\n",
            "\n",
            "  warnings.warn(smsg, UserWarning)\n"
          ]
        },
        {
          "output_type": "stream",
          "name": "stdout",
          "text": [
            "Accuracy on testing set =  0.9942003183081115\n",
            "F1 score on testing set =  0.9743467366662689\n"
          ]
        },
        {
          "output_type": "display_data",
          "data": {
            "text/plain": [
              "<Figure size 640x480 with 2 Axes>"
            ],
            "image/png": "[encoded data removed]"
          },
          "metadata": {}
        }
      ],
      "source": [
        "# Learn the model\n",
        "model = xgb.XGBClassifier(use_label_encoder=False, eval_metric='mlogloss').fit(X_train_processed, Y_train)\n",
        "\n",
        "# pickle model - saves it so you can load it later\n",
        "with open('xgb_model.obj', 'wb') as f:\n",
        "    pickle.dump(model, f)\n",
        "# to load pickled model:\n",
        "# with open('xgb_model.obj', 'rb') as f:\n",
        "#    model = pickle.load(f)\n",
        "\n",
        "# Evaluate your model on the testing set\n",
        "Y_test_predictions = model.predict(X_test_processed)\n",
        "print(\"Accuracy on testing set = \", accuracy_score(Y_test, Y_test_predictions))\n",
        "print(\"F1 score on testing set = \", f1_score(Y_test, Y_test_predictions))\n",
        "\n",
        "# Plot a confusion matrix\n",
        "cm = confusion_matrix(Y_test, Y_test_predictions)\n",
        "sns.heatmap(cm, annot=True)\n",
        "plt.title('Confusion matrix of the XGBoost classifier')\n",
        "plt.xlabel('Predicted')\n",
        "plt.ylabel('True')\n",
        "plt.show()"
      ]
    },
    {
      "cell_type": "code",
      "source": [
        "import pandas as pd\n",
        "\n",
        "# Load sample submission file\n",
        "sample_submission_path = '/content/drive/My Drive/sample_submission.csv'\n",
        "sample_submission = pd.read_csv(sample_submission_path)\n",
        "\n",
        "# Check structure\n",
        "print(sample_submission.head())\n"
      ],
      "metadata": {
        "colab": {
          "base_uri": "https://localhost:8080/"
        },
        "id": "CdOVpll7Yu6J",
        "outputId": "7d748840-0f67-4199-a412-2a4fe4c8b231"
      },
      "execution_count": 69,
      "outputs": [
        {
          "output_type": "stream",
          "name": "stdout",
          "text": [
            "       id  is_fraud\n",
            "0   52329         0\n",
            "1   92215         0\n",
            "2  107070         0\n",
            "3  117508         0\n",
            "4  525132         0\n"
          ]
        }
      ]
    },
    {
      "cell_type": "code",
      "source": [
        "print(f\"Original test dataset shape: {pd.read_csv('/content/drive/My Drive/test.csv').shape}\")\n",
        "print(f\"Processed testX shape: {testX.shape}\")\n"
      ],
      "metadata": {
        "colab": {
          "base_uri": "https://localhost:8080/"
        },
        "id": "C8PXJ_LNbUXF",
        "outputId": "0430e275-d273-4cd6-d993-aa998440f6a4"
      },
      "execution_count": 75,
      "outputs": [
        {
          "output_type": "stream",
          "name": "stdout",
          "text": [
            "Original test dataset shape: (92676, 23)\n",
            "Processed testX shape: (0, 28)\n"
          ]
        }
      ]
    },
    {
      "cell_type": "code",
      "source": [
        "# Truncate test_ids or extend Y_test_predictions to match lengths (temporary fix)\n",
        "min_length = min(len(test_ids), len(Y_test_predictions))\n",
        "test_ids = test_ids[:min_length]\n",
        "Y_test_predictions = Y_test_predictions[:min_length]\n",
        "\n",
        "# Create the submission DataFrame\n",
        "submission = pd.DataFrame({\n",
        "    'id': test_ids,\n",
        "    'is_fraud': Y_test_predictions\n",
        "})\n",
        "\n",
        "# Save and download the submission file\n",
        "submission.to_csv('submission.csv', index=False)\n",
        "from google.colab import files\n",
        "files.download('submission.csv')"
      ],
      "metadata": {
        "colab": {
          "base_uri": "https://localhost:8080/",
          "height": 17
        },
        "id": "UWcm02bFas4y",
        "outputId": "779ca3d4-dc6a-430d-c29b-fc8820244d21"
      },
      "execution_count": 76,
      "outputs": [
        {
          "output_type": "display_data",
          "data": {
            "text/plain": [
              "<IPython.core.display.Javascript object>"
            ],
            "application/javascript": [
              "\n",
              "    async function download(id, filename, size) {\n",
              "      if (!google.colab.kernel.accessAllowed) {\n",
              "        return;\n",
              "      }\n",
              "      const div = document.createElement('div');\n",
              "      const label = document.createElement('label');\n",
              "      label.textContent = `Downloading \"${filename}\": `;\n",
              "      div.appendChild(label);\n",
              "      const progress = document.createElement('progress');\n",
              "      progress.max = size;\n",
              "      div.appendChild(progress);\n",
              "      document.body.appendChild(div);\n",
              "\n",
              "      const buffers = [];\n",
              "      let downloaded = 0;\n",
              "\n",
              "      const channel = await google.colab.kernel.comms.open(id);\n",
              "      // Send a message to notify the kernel that we're ready.\n",
              "      channel.send({})\n",
              "\n",
              "      for await (const message of channel.messages) {\n",
              "        // Send a message to notify the kernel that we're ready.\n",
              "        channel.send({})\n",
              "        if (message.buffers) {\n",
              "          for (const buffer of message.buffers) {\n",
              "            buffers.push(buffer);\n",
              "            downloaded += buffer.byteLength;\n",
              "            progress.value = downloaded;\n",
              "          }\n",
              "        }\n",
              "      }\n",
              "      const blob = new Blob(buffers, {type: 'application/binary'});\n",
              "      const a = document.createElement('a');\n",
              "      a.href = window.URL.createObjectURL(blob);\n",
              "      a.download = filename;\n",
              "      div.appendChild(a);\n",
              "      a.click();\n",
              "      div.remove();\n",
              "    }\n",
              "  "
            ]
          },
          "metadata": {}
        },
        {
          "output_type": "display_data",
          "data": {
            "text/plain": [
              "<IPython.core.display.Javascript object>"
            ],
            "application/javascript": [
              "download(\"download_b4917747-27fe-48b6-8838-1cbe87655d17\", \"submission.csv\", 328668)"
            ]
          },
          "metadata": {}
        }
      ]
    },
    {
      "cell_type": "code",
      "source": [
        "original_test = pd.read_csv('/content/drive/My Drive/test.csv')\n",
        "print(original_test.columns)\n",
        "print(f\"Original test shape: {original_test.shape}\")"
      ],
      "metadata": {
        "colab": {
          "base_uri": "https://localhost:8080/"
        },
        "id": "ZiSykEBPcjks",
        "outputId": "4fd29d2a-8368-41b3-897e-ab336d2db52c"
      },
      "execution_count": 81,
      "outputs": [
        {
          "output_type": "stream",
          "name": "stdout",
          "text": [
            "Index(['id', 'trans_num', 'trans_date', 'trans_time', 'unix_time', 'category',\n",
            "       'amt', 'cc_num', 'first', 'last', 'gender', 'street', 'city', 'state',\n",
            "       'zip', 'lat', 'long', 'city_pop', 'job', 'dob', 'merchant', 'merch_lat',\n",
            "       'merch_long'],\n",
            "      dtype='object')\n",
            "Original test shape: (92676, 23)\n"
          ]
        }
      ]
    },
    {
      "cell_type": "code",
      "source": [
        "if 'trans_date_trans_time' in original_test.columns:\n",
        "    original_test['trans_date_trans_time'] = pd.to_datetime(original_test['trans_date_trans_time'], errors='coerce')\n",
        "    # Check for NaN values introduced during conversion\n",
        "    print(original_test['trans_date_trans_time'].isnull().sum())\n",
        "\n",
        "    # Fill missing datetime values\n",
        "    original_test['trans_date_trans_time'] = original_test['trans_date_trans_time'].fillna(method='bfill')\n",
        "    original_test['year'] = original_test['trans_date_trans_time'].dt.year\n",
        "    original_test['month'] = original_test['trans_date_trans_time'].dt.month\n",
        "    original_test['day'] = original_test['trans_date_trans_time'].dt.day\n",
        "    original_test['hour'] = original_test['trans_date_trans_time'].dt.hour\n",
        "else:\n",
        "    print(\"Column 'trans_date_trans_time' not found.\")"
      ],
      "metadata": {
        "colab": {
          "base_uri": "https://localhost:8080/"
        },
        "id": "EayRNzvgcmnA",
        "outputId": "19c82610-5f05-4938-cf4c-ec3134679389"
      },
      "execution_count": 82,
      "outputs": [
        {
          "output_type": "stream",
          "name": "stdout",
          "text": [
            "Column 'trans_date_trans_time' not found.\n"
          ]
        }
      ]
    },
    {
      "cell_type": "code",
      "source": [
        "from sklearn.preprocessing import LabelEncoder\n",
        "\n",
        "for col in original_test.select_dtypes(include=['object', 'category']).columns:\n",
        "    print(f\"Encoding column: {col}\")\n",
        "    original_test[col] = LabelEncoder().fit_transform(original_test[col].astype(str))"
      ],
      "metadata": {
        "colab": {
          "base_uri": "https://localhost:8080/"
        },
        "id": "Hz5VaduGcqhT",
        "outputId": "56f96ce4-c8b6-45df-f81f-9784deac0a37"
      },
      "execution_count": 83,
      "outputs": [
        {
          "output_type": "stream",
          "name": "stdout",
          "text": [
            "Encoding column: trans_num\n",
            "Encoding column: trans_date\n",
            "Encoding column: trans_time\n",
            "Encoding column: category\n",
            "Encoding column: first\n",
            "Encoding column: last\n",
            "Encoding column: gender\n",
            "Encoding column: street\n",
            "Encoding column: city\n",
            "Encoding column: state\n",
            "Encoding column: job\n",
            "Encoding column: dob\n",
            "Encoding column: merchant\n"
          ]
        }
      ]
    },
    {
      "cell_type": "code",
      "source": [
        "# Align features with the training set\n",
        "for col in model.feature_names_in_:\n",
        "    if col not in original_test.columns:\n",
        "        original_test[col] = 0  # Add missing columns with default values\n",
        "\n",
        "testX = original_test[model.feature_names_in_]\n",
        "print(f\"Processed testX shape: {testX.shape}\")"
      ],
      "metadata": {
        "colab": {
          "base_uri": "https://localhost:8080/"
        },
        "id": "kD0icQMlcuBI",
        "outputId": "084fa4c7-a73c-4e13-fc9d-d3419b9b4398"
      },
      "execution_count": 84,
      "outputs": [
        {
          "output_type": "stream",
          "name": "stdout",
          "text": [
            "Processed testX shape: (92676, 28)\n"
          ]
        }
      ]
    },
    {
      "cell_type": "code",
      "source": [
        "Y_test_predictions = model.predict(testX)\n",
        "print(f\"Number of predictions: {len(Y_test_predictions)}\")"
      ],
      "metadata": {
        "colab": {
          "base_uri": "https://localhost:8080/"
        },
        "id": "HI2yCsSbcwz-",
        "outputId": "c960d00e-c377-4f8c-be08-9e3ec5d31e4f"
      },
      "execution_count": 85,
      "outputs": [
        {
          "output_type": "stream",
          "name": "stdout",
          "text": [
            "Number of predictions: 92676\n"
          ]
        }
      ]
    },
    {
      "cell_type": "code",
      "source": [
        "# Load test IDs from the sample submission file\n",
        "test_ids = pd.read_csv('/content/drive/My Drive/sample_submission.csv')['id']\n",
        "\n",
        "# Ensure alignment of IDs and predictions\n",
        "submission = pd.DataFrame({\n",
        "    'id': test_ids,\n",
        "    'is_fraud': Y_test_predictions\n",
        "})\n",
        "\n",
        "# Save and download the submission file\n",
        "submission.to_csv('submission.csv', index=False)\n",
        "from google.colab import files\n",
        "files.download('submission.csv')"
      ],
      "metadata": {
        "colab": {
          "base_uri": "https://localhost:8080/",
          "height": 17
        },
        "id": "ZI18xE4rczqg",
        "outputId": "c04f948b-c2ad-4825-915b-9f0a2a754c21"
      },
      "execution_count": 86,
      "outputs": [
        {
          "output_type": "display_data",
          "data": {
            "text/plain": [
              "<IPython.core.display.Javascript object>"
            ],
            "application/javascript": [
              "\n",
              "    async function download(id, filename, size) {\n",
              "      if (!google.colab.kernel.accessAllowed) {\n",
              "        return;\n",
              "      }\n",
              "      const div = document.createElement('div');\n",
              "      const label = document.createElement('label');\n",
              "      label.textContent = `Downloading \"${filename}\": `;\n",
              "      div.appendChild(label);\n",
              "      const progress = document.createElement('progress');\n",
              "      progress.max = size;\n",
              "      div.appendChild(progress);\n",
              "      document.body.appendChild(div);\n",
              "\n",
              "      const buffers = [];\n",
              "      let downloaded = 0;\n",
              "\n",
              "      const channel = await google.colab.kernel.comms.open(id);\n",
              "      // Send a message to notify the kernel that we're ready.\n",
              "      channel.send({})\n",
              "\n",
              "      for await (const message of channel.messages) {\n",
              "        // Send a message to notify the kernel that we're ready.\n",
              "        channel.send({})\n",
              "        if (message.buffers) {\n",
              "          for (const buffer of message.buffers) {\n",
              "            buffers.push(buffer);\n",
              "            downloaded += buffer.byteLength;\n",
              "            progress.value = downloaded;\n",
              "          }\n",
              "        }\n",
              "      }\n",
              "      const blob = new Blob(buffers, {type: 'application/binary'});\n",
              "      const a = document.createElement('a');\n",
              "      a.href = window.URL.createObjectURL(blob);\n",
              "      a.download = filename;\n",
              "      div.appendChild(a);\n",
              "      a.click();\n",
              "      div.remove();\n",
              "    }\n",
              "  "
            ]
          },
          "metadata": {}
        },
        {
          "output_type": "display_data",
          "data": {
            "text/plain": [
              "<IPython.core.display.Javascript object>"
            ],
            "application/javascript": [
              "download(\"download_08073468-1d08-400f-bcea-7b0f57df2c76\", \"submission.csv\", 821366)"
            ]
          },
          "metadata": {}
        }
      ]
    },
    {
      "cell_type": "code",
      "source": [
        "print(f\"Submission shape: {submission.shape}\")"
      ],
      "metadata": {
        "colab": {
          "base_uri": "https://localhost:8080/"
        },
        "id": "w8cGpTqLc7Ot",
        "outputId": "b3244b83-c7fe-483c-d4f5-aa197eaa05f5"
      },
      "execution_count": 87,
      "outputs": [
        {
          "output_type": "stream",
          "name": "stdout",
          "text": [
            "Submission shape: (92676, 2)\n"
          ]
        }
      ]
    },
    {
      "cell_type": "code",
      "source": [
        "importances = model.feature_importances_\n",
        "\n",
        "# Map feature importances to the corresponding feature names\n",
        "feature_names = X_train_processed.columns\n",
        "feature_importance_dict = dict(zip(feature_names, importances))\n",
        "\n",
        "# Sort features by importance\n",
        "sorted_features = sorted(feature_importance_dict.items(), key=lambda x: x[1], reverse=True)\n",
        "print(\"Feature importances:\", sorted_features)"
      ],
      "metadata": {
        "colab": {
          "base_uri": "https://localhost:8080/"
        },
        "id": "j_yTKAWJdOz6",
        "outputId": "e865d811-1f45-4838-c9c3-1f1203aa509e"
      },
      "execution_count": 88,
      "outputs": [
        {
          "output_type": "stream",
          "name": "stdout",
          "text": [
            "Feature importances: [('cat_freq_street_interaction', 0.41702333), ('trans_night_amt', 0.12966229), ('amt', 0.10657682), ('trans_night_street_interaction', 0.064656496), ('category_risk_30days', 0.058896735), ('category_risk_7days', 0.028302997), ('daily_trans', 0.024563259), ('unix_time', 0.024558576), ('std_dev_amt_per_category', 0.018531874), ('category_freq', 0.018304935), ('rolling_avg_amt', 0.015459382), ('street_mean_encoded', 0.015240084), ('category_encoded', 0.0112633575), ('risk_score_7days', 0.007677696), ('mean', 0.0071030776), ('time_since_last_trans', 0.0066599306), ('year_of_birth', 0.006133585), ('street_amt_interaction', 0.0058932975), ('age_daily_trans_interaction', 0.005301324), ('cat_freq__amt_interaction', 0.00509577), ('avg_amt_trans_interaction', 0.004419865), ('age', 0.0041368525), ('risk_score_30days', 0.004086784), ('amt_city_pop_interaction', 0.0038927), ('trans_night_amt_cat_freq_interaction', 0.0029280046), ('city_pop_amt_interaction', 0.0015541567), ('id', 0.0011668119), ('city_mean_encoded', 0.00090995023)]\n"
          ]
        }
      ]
    },
    {
      "cell_type": "code",
      "source": [
        "# Combine features and target variable into one DataFrame\n",
        "df_analysis = pd.concat([X_train_processed, Y_train], axis=1)\n",
        "\n",
        "correlations = df_analysis.corr()['is_fraud'].sort_values(ascending=False)\n",
        "print(correlations)"
      ],
      "metadata": {
        "colab": {
          "base_uri": "https://localhost:8080/"
        },
        "id": "jxQmJQiZdQ9m",
        "outputId": "8fc5ceb1-5b9d-4b6a-c41a-f4fd52cb2261"
      },
      "execution_count": 89,
      "outputs": [
        {
          "output_type": "stream",
          "name": "stdout",
          "text": [
            "is_fraud                                1.000000\n",
            "trans_night_amt                         0.572133\n",
            "trans_night_amt_cat_freq_interaction    0.564484\n",
            "amt                                     0.560571\n",
            "cat_freq__amt_interaction               0.557104\n",
            "amt_city_pop_interaction                0.547962\n",
            "street_amt_interaction                  0.483453\n",
            "rolling_avg_amt                         0.481557\n",
            "cat_freq_street_interaction             0.476655\n",
            "street_mean_encoded                     0.434590\n",
            "avg_amt_trans_interaction               0.382517\n",
            "mean                                    0.341662\n",
            "city_mean_encoded                       0.213665\n",
            "trans_night_street_interaction          0.212154\n",
            "std_dev_amt_per_category                0.168811\n",
            "category_risk_7days                     0.122248\n",
            "risk_score_7days                        0.117419\n",
            "age_daily_trans_interaction             0.102563\n",
            "age                                     0.099454\n",
            "category_freq                           0.097044\n",
            "category_encoded                        0.069745\n",
            "daily_trans                             0.040712\n",
            "city_pop_amt_interaction               -0.000497\n",
            "time_since_last_trans                  -0.007732\n",
            "id                                     -0.030056\n",
            "risk_score_30days                      -0.040011\n",
            "category_risk_30days                   -0.040784\n",
            "year_of_birth                          -0.099646\n",
            "unix_time                              -0.105972\n",
            "Name: is_fraud, dtype: float64\n"
          ]
        }
      ]
    },
    {
      "cell_type": "code",
      "source": [
        "# RFE selector with an XGBoost model and number of features\n",
        "selector = RFE(model, n_features_to_select=37, step=1)\n",
        "selector = selector.fit(X_train_processed, Y_train)\n",
        "\n",
        "# Get the mask of selected features\n",
        "selected_features = X_train_processed.columns[selector.support_]\n",
        "print(\"Selected features:\", selected_features)"
      ],
      "metadata": {
        "colab": {
          "base_uri": "https://localhost:8080/"
        },
        "id": "lLu3UZc4dT0r",
        "outputId": "9700bcd9-181e-4c98-9b7e-7cfdbba34bbf"
      },
      "execution_count": 90,
      "outputs": [
        {
          "output_type": "stream",
          "name": "stderr",
          "text": [
            "/usr/local/lib/python3.10/dist-packages/sklearn/feature_selection/_rfe.py:291: UserWarning: Found n_features_to_select=37 > n_features=28. There will be no feature selection and all features will be kept.\n",
            "  warnings.warn(\n",
            "/usr/local/lib/python3.10/dist-packages/xgboost/core.py:158: UserWarning: [03:27:40] WARNING: /workspace/src/learner.cc:740: \n",
            "Parameters: { \"use_label_encoder\" } are not used.\n",
            "\n",
            "  warnings.warn(smsg, UserWarning)\n"
          ]
        },
        {
          "output_type": "stream",
          "name": "stdout",
          "text": [
            "Selected features: Index(['id', 'unix_time', 'amt', 'year_of_birth', 'daily_trans',\n",
            "       'amt_city_pop_interaction', 'street_mean_encoded', 'city_mean_encoded',\n",
            "       'category_encoded', 'category_freq', 'rolling_avg_amt',\n",
            "       'time_since_last_trans', 'age', 'risk_score_7days',\n",
            "       'category_risk_7days', 'risk_score_30days', 'category_risk_30days',\n",
            "       'mean', 'street_amt_interaction', 'trans_night_amt',\n",
            "       'cat_freq__amt_interaction', 'cat_freq_street_interaction',\n",
            "       'trans_night_amt_cat_freq_interaction', 'city_pop_amt_interaction',\n",
            "       'age_daily_trans_interaction', 'avg_amt_trans_interaction',\n",
            "       'trans_night_street_interaction', 'std_dev_amt_per_category'],\n",
            "      dtype='object')\n"
          ]
        }
      ]
    },
    {
      "cell_type": "code",
      "source": [
        "columns_difference = set(X_train_processed.columns) - set(selected_features)\n",
        "\n",
        "print(columns_difference)"
      ],
      "metadata": {
        "colab": {
          "base_uri": "https://localhost:8080/"
        },
        "id": "JxfjcWY_dXp0",
        "outputId": "c888b989-9e65-4f51-a3fa-7287da61a16d"
      },
      "execution_count": 91,
      "outputs": [
        {
          "output_type": "stream",
          "name": "stdout",
          "text": [
            "set()\n"
          ]
        }
      ]
    },
    {
      "cell_type": "code",
      "source": [
        "sorted_features = [feature for _, feature in sorted(zip(importances, feature_names), reverse=True)]\n",
        "for i in sorted_features:\n",
        "    print(i)\n",
        "\n",
        "xgb.plot_importance(model, importance_type='gain', max_num_features=10)\n",
        "plt.show()"
      ],
      "metadata": {
        "colab": {
          "base_uri": "https://localhost:8080/",
          "height": 972
        },
        "id": "JEPnVwnsdaWX",
        "outputId": "e11707c5-1e1b-4526-eed5-5e6dcdedd5f1"
      },
      "execution_count": 92,
      "outputs": [
        {
          "output_type": "stream",
          "name": "stdout",
          "text": [
            "cat_freq_street_interaction\n",
            "trans_night_amt\n",
            "amt\n",
            "trans_night_street_interaction\n",
            "category_risk_30days\n",
            "category_risk_7days\n",
            "daily_trans\n",
            "unix_time\n",
            "std_dev_amt_per_category\n",
            "category_freq\n",
            "rolling_avg_amt\n",
            "street_mean_encoded\n",
            "category_encoded\n",
            "risk_score_7days\n",
            "mean\n",
            "time_since_last_trans\n",
            "year_of_birth\n",
            "street_amt_interaction\n",
            "age_daily_trans_interaction\n",
            "cat_freq__amt_interaction\n",
            "avg_amt_trans_interaction\n",
            "age\n",
            "risk_score_30days\n",
            "amt_city_pop_interaction\n",
            "trans_night_amt_cat_freq_interaction\n",
            "city_pop_amt_interaction\n",
            "id\n",
            "city_mean_encoded\n"
          ]
        },
        {
          "output_type": "display_data",
          "data": {
            "text/plain": [
              "<Figure size 640x480 with 1 Axes>"
            ],
            "image/png": "[encoded data removed]"
          },
          "metadata": {}
        }
      ]
    },
    {
      "cell_type": "code",
      "source": [
        "X_train_numeric = X_train.select_dtypes(include=['number'])\n",
        "\n",
        "explainer = shap.TreeExplainer(model)\n",
        "\n",
        "# SHAP values\n",
        "shap_values = explainer.shap_values(X_train_numeric)\n",
        "\n",
        "# summary plot for the SHAP values of the numerical features\n",
        "shap.summary_plot(shap_values, X_train_numeric, feature_names=X_train_numeric.columns)"
      ],
      "metadata": {
        "id": "zpt9IoAKda4v"
      },
      "execution_count": null,
      "outputs": []
    },
    {
      "cell_type": "code",
      "source": [
        "# Load test IDs from the sample submission file\n",
        "test_ids = pd.read_csv('/content/drive/My Drive/sample_submission.csv')['id']\n",
        "\n",
        "# Ensure alignment of IDs and predictions\n",
        "submission = pd.DataFrame({\n",
        "    'id': test_ids,\n",
        "    'is_fraud': Y_test_predictions\n",
        "})\n",
        "\n",
        "# Save and download the submission file\n",
        "submission.to_csv('submission.csv', index=False)\n",
        "from google.colab import files\n",
        "files.download('submission.csv')"
      ],
      "metadata": {
        "colab": {
          "base_uri": "https://localhost:8080/",
          "height": 17
        },
        "id": "1Al3gtnQddHf",
        "outputId": "1f6769c5-60b4-46bb-a832-dfd38bcc4c9f"
      },
      "execution_count": 94,
      "outputs": [
        {
          "output_type": "display_data",
          "data": {
            "text/plain": [
              "<IPython.core.display.Javascript object>"
            ],
            "application/javascript": [
              "\n",
              "    async function download(id, filename, size) {\n",
              "      if (!google.colab.kernel.accessAllowed) {\n",
              "        return;\n",
              "      }\n",
              "      const div = document.createElement('div');\n",
              "      const label = document.createElement('label');\n",
              "      label.textContent = `Downloading \"${filename}\": `;\n",
              "      div.appendChild(label);\n",
              "      const progress = document.createElement('progress');\n",
              "      progress.max = size;\n",
              "      div.appendChild(progress);\n",
              "      document.body.appendChild(div);\n",
              "\n",
              "      const buffers = [];\n",
              "      let downloaded = 0;\n",
              "\n",
              "      const channel = await google.colab.kernel.comms.open(id);\n",
              "      // Send a message to notify the kernel that we're ready.\n",
              "      channel.send({})\n",
              "\n",
              "      for await (const message of channel.messages) {\n",
              "        // Send a message to notify the kernel that we're ready.\n",
              "        channel.send({})\n",
              "        if (message.buffers) {\n",
              "          for (const buffer of message.buffers) {\n",
              "            buffers.push(buffer);\n",
              "            downloaded += buffer.byteLength;\n",
              "            progress.value = downloaded;\n",
              "          }\n",
              "        }\n",
              "      }\n",
              "      const blob = new Blob(buffers, {type: 'application/binary'});\n",
              "      const a = document.createElement('a');\n",
              "      a.href = window.URL.createObjectURL(blob);\n",
              "      a.download = filename;\n",
              "      div.appendChild(a);\n",
              "      a.click();\n",
              "      div.remove();\n",
              "    }\n",
              "  "
            ]
          },
          "metadata": {}
        },
        {
          "output_type": "display_data",
          "data": {
            "text/plain": [
              "<IPython.core.display.Javascript object>"
            ],
            "application/javascript": [
              "download(\"download_292e9fd9-ac7f-42dc-bfe6-22450feed0c6\", \"submission.csv\", 821366)"
            ]
          },
          "metadata": {}
        }
      ]
    }
  ],
  "metadata": {
    "colab": {
      "provenance": []
    },
    "kernelspec": {
      "display_name": "Python 3 (ipykernel)",
      "language": "python",
      "name": "python3"
    },
    "language_info": {
      "codemirror_mode": {
        "name": "ipython",
        "version": 3
      },
      "file_extension": ".py",
      "mimetype": "text/x-python",
      "name": "python",
      "nbconvert_exporter": "python",
      "pygments_lexer": "ipython3",
      "version": "3.9.12"
    },
    "vscode": {
      "interpreter": {
        "hash": "e7370f93d1d0cde622a1f8e1c04877d8463912d04d973331ad4851f04de6915a"
      }
    }
  },
  "nbformat": 4,
  "nbformat_minor": 0
}